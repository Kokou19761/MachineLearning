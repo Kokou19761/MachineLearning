{
 "cells": [
  {
   "cell_type": "markdown",
   "id": "7e15a5fd",
   "metadata": {},
   "source": [
    "Rédigé par : \n",
    "Kokou Souka-Amedjro (SOUK31127902)\n",
    "\n",
    "Présenté à : \n",
    "Abdenour Bouzouane, Professeur\n",
    " \n",
    "Date de remise : \n",
    "\n",
    "25 -04-2022\n",
    "\n",
    "Rapport du pratique du mini-projet\n",
    "Introduction \n",
    "Ce rapport a été rédigé dans le cadre du cours d’apprentissage machine de la session d’hiver 2022. L’objectif général de ce mini-projet est mettre en place une expérimentation avec des données d’apprentissage dans un contexte réel en utilisant un algorithme de notre choix. Et, ensuite faire une analyse comparative des techniques d’apprentissage. \n",
    "I- Description de l’ensemble de données \n",
    "1. Source et l’objectif des données \n",
    " La base de données « heart-disease » est un extrait de 'ensemble de données provient du CDC et constitue une partie importante du système de surveillance des facteurs de risque comportementaux (BRFSS), qui mène des enquêtes téléphoniques annuelles pour recueillir des données sur l'état de santé des résidents américains. Comme le CDC décrit : \"Établi en 1984 avec 15 États, le BRFSS collecte désormais des données dans les 50 États ainsi que dans le district de Columbia et trois territoires américains. L'ensemble de données le plus récent (au 15 février 2022) comprend des données de 2020. Ces données proviennent du site web dont le lien est le suivant : « https://www.kaggle.com/datasets/kamilpytlak/personal-key-indicators-of-heart-disease. »\n",
    "Notre base de données est constituée de 319795 instances et de 18 variables.\n",
    "\n",
    "       \n",
    "L’objectif de la collecte de ces données est de détecter et prévenir les facteurs qui ont le plus grand impact sur les maladies cardiaques est très important dans le domaine de la santé. Les développements informatiques, à leur tour, permettent l'application de méthodes d'apprentissage automatique pour détecter des \"modèles\" à partir des données qui peuvent prédire l'état d'un patient. En effet , les maladies cardiaques sont l'une des principales causes de décès chez les personnes de la plupart des races aux États-Unis (Afro-Américains, Indiens d'Amérique et Autochtones de l'Alaska, et Blancs). Environ la moitié de tous les Américains (47 %) présentent au moins 1 des 3 principaux facteurs de risque de maladie cardiaque : hypertension artérielle, taux de cholestérol élevé et tabagisme. D'autres indicateurs clés incluent le statut diabétique, l'obésité (IMC élevé), le manque d'activité physique ou la consommation excessive d'alcool.\n",
    "\n",
    "2. Analyse de la forme\n",
    "La base de données « heart-disease » contient des variables numériques (voir figure Proportion ci-dessous), dont 22,2 % sont des nombres à virgules 77,8 % sont des variables catégorielles . La base de données ne contient pas de données manquantes et ne présente aucune erreur d’autre nature (erreur de remplissage, de forme, etc.).\n",
    "\n",
    "La distribution de la classe \n",
    "\n",
    "Label\tNombre\t Pourcentage\n",
    "No\t    292 422\t    91,4\n",
    "Yes \t27 373\t    8,6\n",
    "\n",
    "Yes : Oui, pour la maladie du cœur  \n",
    "No : Non, pour bonne santé du cœur  \n",
    "D’après le tableau de la distribution (Tableau_distribution) la base de données est constituée de 91,4 % de la classe No , et 8,6 % de la classe Yes , par conséquent les classes sont déséquilibrées. Nous allons donc devoir utiliser le paramètre « stratify » pour corriger ce bruit. \n"
   ]
  },
  {
   "cell_type": "code",
   "execution_count": 3,
   "id": "eafb605b",
   "metadata": {},
   "outputs": [],
   "source": [
    "#importantion de modules\n",
    "import pandas as pd\n",
    "import numpy as np\n",
    "import matplotlib.pyplot as plt\n",
    "from sklearn.model_selection import train_test_split\n",
    "from sklearn.pipeline import Pipeline\n",
    "from sklearn.impute import SimpleImputer\n",
    "from sklearn.preprocessing import *\n",
    "from sklearn.utils import resample\n",
    "from sklearn.compose import *\n",
    "from sklearn.metrics import accuracy_score\n",
    "from sklearn.metrics import classification_report\n",
    "import warnings\n",
    "warnings.filterwarnings('ignore')\n",
    "\"\"\" Data Viz \"\"\"\n",
    "import matplotlib.pyplot as plt\n",
    "import seaborn as sns"
   ]
  },
  {
   "cell_type": "code",
   "execution_count": 4,
   "id": "aa65cba5",
   "metadata": {},
   "outputs": [],
   "source": [
    "data_file_pathname = \"C:\\\\Users\\\\kokou\\\\Desktop\\\\Hiver_2022\\\\Mchine_Learning\\\\Kokou_Souka-Amedjro_Mini_Projet\\\\heart_2020_cleaned.csv\""
   ]
  },
  {
   "cell_type": "code",
   "execution_count": 5,
   "id": "3b6ec7da",
   "metadata": {},
   "outputs": [],
   "source": [
    "# reading tsv files\n",
    "df = pd.read_csv(data_file_pathname, sep=\",\", header=0)\n"
   ]
  },
  {
   "cell_type": "markdown",
   "id": "740e6079",
   "metadata": {},
   "source": [
    " I-Analyse exploratoire des données "
   ]
  },
  {
   "cell_type": "code",
   "execution_count": 6,
   "id": "1d731322",
   "metadata": {},
   "outputs": [
    {
     "name": "stdout",
     "output_type": "stream",
     "text": [
      "Data shape: (319795, 18)\n",
      "___________________________\n",
      "Data Types:\n",
      "object     14\n",
      "float64     4\n",
      "Name: Types, dtype: int64\n",
      "___________________________\n",
      "                    Types  Counts  Uniques  Nulls  \\\n",
      "AgeCategory        object  319795       13      0   \n",
      "AlcoholDrinking    object  319795        2      0   \n",
      "Smoking            object  319795        2      0   \n",
      "SleepTime         float64  319795       24      0   \n",
      "SkinCancer         object  319795        2      0   \n",
      "Sex                object  319795        2      0   \n",
      "Race               object  319795        6      0   \n",
      "PhysicalHealth    float64  319795       31      0   \n",
      "PhysicalActivity   object  319795        2      0   \n",
      "MentalHealth      float64  319795       31      0   \n",
      "KidneyDisease      object  319795        2      0   \n",
      "HeartDisease       object  319795        2      0   \n",
      "GenHealth          object  319795        5      0   \n",
      "DiffWalking        object  319795        2      0   \n",
      "Diabetic           object  319795        4      0   \n",
      "BMI               float64  319795     3604      0   \n",
      "Asthma             object  319795        2      0   \n",
      "Stroke             object  319795        2      0   \n",
      "\n",
      "                                             Min                     Max  \n",
      "AgeCategory                                18-24             80 or older  \n",
      "AlcoholDrinking                               No                     Yes  \n",
      "Smoking                                       No                     Yes  \n",
      "SleepTime                                    1.0                    24.0  \n",
      "SkinCancer                                    No                     Yes  \n",
      "Sex                                       Female                    Male  \n",
      "Race              American Indian/Alaskan Native                   White  \n",
      "PhysicalHealth                               0.0                    30.0  \n",
      "PhysicalActivity                              No                     Yes  \n",
      "MentalHealth                                 0.0                    30.0  \n",
      "KidneyDisease                                 No                     Yes  \n",
      "HeartDisease                                  No                     Yes  \n",
      "GenHealth                              Excellent               Very good  \n",
      "DiffWalking                                   No                     Yes  \n",
      "Diabetic                                      No  Yes (during pregnancy)  \n",
      "BMI                                        12.02                   94.85  \n",
      "Asthma                                        No                     Yes  \n",
      "Stroke                                        No                     Yes  \n"
     ]
    }
   ],
   "source": [
    "\n",
    "def summary(df, pred=None):\n",
    "    obs = df.shape[0]\n",
    "    Types = df.dtypes\n",
    "    Counts = df.apply(lambda x: x.count())\n",
    "    Min = df.min()\n",
    "    Max = df.max()\n",
    "    Uniques = df.apply(lambda x: x.unique().shape[0])\n",
    "    Nulls = df.apply(lambda x: x.isnull().sum())\n",
    "    print('Data shape:', df.shape)\n",
    "\n",
    "    if pred is None:\n",
    "        cols = ['Types', 'Counts', 'Uniques', 'Nulls', 'Min', 'Max']\n",
    "        str = pd.concat([Types, Counts, Uniques, Nulls, Min, Max], axis = 1, sort=True)\n",
    "\n",
    "    str.columns = cols\n",
    "    print('___________________________\\nData Types:')\n",
    "    print(str.Types.value_counts())\n",
    "    print('___________________________')\n",
    "    return str\n",
    "print(summary(df).sort_values(by='Nulls', ascending=False))"
   ]
  },
  {
   "cell_type": "code",
   "execution_count": 192,
   "id": "b652db22",
   "metadata": {},
   "outputs": [
    {
     "data": {
      "image/png": "[encoded data removed]",
      "text/plain": [
       "<Figure size 432x288 with 1 Axes>"
      ]
     },
     "metadata": {},
     "output_type": "display_data"
    }
   ],
   "source": [
    "Typ = pd.DataFrame({\"types de données\": df.dtypes})\n",
    "t = Typ[\"types de données\"].value_counts() / len(Typ)\n",
    "plt.subplots(facecolor='lightgray')\n",
    "t.plot.pie(autopct='%1.1f%%')\n",
    "plt.show()\n"
   ]
  },
  {
   "cell_type": "code",
   "execution_count": 7,
   "id": "3d38237c",
   "metadata": {},
   "outputs": [
    {
     "name": "stdout",
     "output_type": "stream",
     "text": [
      "       HeartDisease    BMI Smoking AlcoholDrinking Stroke  PhysicalHealth  \\\n",
      "319790          Yes  27.41     Yes              No     No             7.0   \n",
      "319791           No  29.84     Yes              No     No             0.0   \n",
      "319792           No  24.24      No              No     No             0.0   \n",
      "319793           No  32.81      No              No     No             0.0   \n",
      "319794           No  46.56      No              No     No             0.0   \n",
      "\n",
      "        MentalHealth DiffWalking     Sex  AgeCategory      Race Diabetic  \\\n",
      "319790           0.0         Yes    Male        60-64  Hispanic      Yes   \n",
      "319791           0.0          No    Male        35-39  Hispanic       No   \n",
      "319792           0.0          No  Female        45-49  Hispanic       No   \n",
      "319793           0.0          No  Female        25-29  Hispanic       No   \n",
      "319794           0.0          No  Female  80 or older  Hispanic       No   \n",
      "\n",
      "       PhysicalActivity  GenHealth  SleepTime Asthma KidneyDisease SkinCancer  \n",
      "319790               No       Fair        6.0    Yes            No         No  \n",
      "319791              Yes  Very good        5.0    Yes            No         No  \n",
      "319792              Yes       Good        6.0     No            No         No  \n",
      "319793               No       Good       12.0     No            No         No  \n",
      "319794              Yes       Good        8.0     No            No         No  \n"
     ]
    }
   ],
   "source": [
    "print(df.tail())"
   ]
  },
  {
   "cell_type": "code",
   "execution_count": 194,
   "id": "59d038e9",
   "metadata": {},
   "outputs": [
    {
     "name": "stdout",
     "output_type": "stream",
     "text": [
      "<class 'pandas.core.frame.DataFrame'>\n",
      "RangeIndex: 319795 entries, 0 to 319794\n",
      "Data columns (total 18 columns):\n",
      " #   Column            Non-Null Count   Dtype  \n",
      "---  ------            --------------   -----  \n",
      " 0   HeartDisease      319795 non-null  object \n",
      " 1   BMI               319795 non-null  float64\n",
      " 2   Smoking           319795 non-null  object \n",
      " 3   AlcoholDrinking   319795 non-null  object \n",
      " 4   Stroke            319795 non-null  object \n",
      " 5   PhysicalHealth    319795 non-null  float64\n",
      " 6   MentalHealth      319795 non-null  float64\n",
      " 7   DiffWalking       319795 non-null  object \n",
      " 8   Sex               319795 non-null  object \n",
      " 9   AgeCategory       319795 non-null  object \n",
      " 10  Race              319795 non-null  object \n",
      " 11  Diabetic          319795 non-null  object \n",
      " 12  PhysicalActivity  319795 non-null  object \n",
      " 13  GenHealth         319795 non-null  object \n",
      " 14  SleepTime         319795 non-null  float64\n",
      " 15  Asthma            319795 non-null  object \n",
      " 16  KidneyDisease     319795 non-null  object \n",
      " 17  SkinCancer        319795 non-null  object \n",
      "dtypes: float64(4), object(14)\n",
      "memory usage: 43.9+ MB\n",
      "None\n"
     ]
    }
   ],
   "source": [
    "print(df.info())"
   ]
  },
  {
   "cell_type": "code",
   "execution_count": 8,
   "id": "439acd0c",
   "metadata": {},
   "outputs": [
    {
     "name": "stdout",
     "output_type": "stream",
     "text": [
      "                 BMI  PhysicalHealth   MentalHealth      SleepTime\n",
      "count  319795.000000    319795.00000  319795.000000  319795.000000\n",
      "mean       28.325399         3.37171       3.898366       7.097075\n",
      "std         6.356100         7.95085       7.955235       1.436007\n",
      "min        12.020000         0.00000       0.000000       1.000000\n",
      "25%        24.030000         0.00000       0.000000       6.000000\n",
      "50%        27.340000         0.00000       0.000000       7.000000\n",
      "75%        31.420000         2.00000       3.000000       8.000000\n",
      "max        94.850000        30.00000      30.000000      24.000000\n"
     ]
    }
   ],
   "source": [
    "print(df.describe())"
   ]
  },
  {
   "cell_type": "code",
   "execution_count": 196,
   "id": "ac44f6a9",
   "metadata": {},
   "outputs": [
    {
     "name": "stdout",
     "output_type": "stream",
     "text": [
      "Index(['HeartDisease', 'BMI', 'Smoking', 'AlcoholDrinking', 'Stroke',\n",
      "       'PhysicalHealth', 'MentalHealth', 'DiffWalking', 'Sex', 'AgeCategory',\n",
      "       'Race', 'Diabetic', 'PhysicalActivity', 'GenHealth', 'SleepTime',\n",
      "       'Asthma', 'KidneyDisease', 'SkinCancer'],\n",
      "      dtype='object')\n"
     ]
    }
   ],
   "source": [
    "print(df.columns)"
   ]
  },
  {
   "cell_type": "code",
   "execution_count": 197,
   "id": "917f1c18",
   "metadata": {},
   "outputs": [
    {
     "name": "stdout",
     "output_type": "stream",
     "text": [
      "HeartDisease        0\n",
      "BMI                 0\n",
      "Smoking             0\n",
      "AlcoholDrinking     0\n",
      "Stroke              0\n",
      "PhysicalHealth      0\n",
      "MentalHealth        0\n",
      "DiffWalking         0\n",
      "Sex                 0\n",
      "AgeCategory         0\n",
      "Race                0\n",
      "Diabetic            0\n",
      "PhysicalActivity    0\n",
      "GenHealth           0\n",
      "SleepTime           0\n",
      "Asthma              0\n",
      "KidneyDisease       0\n",
      "SkinCancer          0\n",
      "dtype: int64\n"
     ]
    }
   ],
   "source": [
    "# Vérifions l'existance des valeurs manquantes\n",
    "print(df.isnull().sum())"
   ]
  },
  {
   "cell_type": "code",
   "execution_count": 9,
   "id": "3da6307b",
   "metadata": {},
   "outputs": [],
   "source": [
    "# Séparons les colonnes par types de données \n",
    "# 1- données catégoricielles \n",
    "data_cat = df[['HeartDisease', 'Smoking', 'AlcoholDrinking', 'Stroke', 'DiffWalking',\n",
    "'Sex', 'AgeCategory', 'Race', 'Diabetic', 'PhysicalActivity', 'GenHealth',\n",
    "'Asthma', 'KidneyDisease', 'SkinCancer']]\n"
   ]
  },
  {
   "cell_type": "code",
   "execution_count": 10,
   "id": "ae44dc77",
   "metadata": {},
   "outputs": [],
   "source": [
    "# 2- données numériques\n",
    "data_num = df[['BMI', 'PhysicalHealth', 'MentalHealth', 'SleepTime']]"
   ]
  },
  {
   "cell_type": "code",
   "execution_count": 200,
   "id": "3e52cb68",
   "metadata": {},
   "outputs": [
    {
     "data": {
      "image/png": "[encoded data removed]",
      "text/plain": [
       "<Figure size 432x288 with 1 Axes>"
      ]
     },
     "metadata": {
      "needs_background": "light"
     },
     "output_type": "display_data"
    },
    {
     "data": {
      "image/png": "[encoded data removed]",
      "text/plain": [
       "<Figure size 432x288 with 1 Axes>"
      ]
     },
     "metadata": {
      "needs_background": "light"
     },
     "output_type": "display_data"
    },
    {
     "data": {
      "image/png": "[encoded data removed]",
      "text/plain": [
       "<Figure size 432x288 with 1 Axes>"
      ]
     },
     "metadata": {
      "needs_background": "light"
     },
     "output_type": "display_data"
    },
    {
     "data": {
      "image/png": "[encoded data removed]",
      "text/plain": [
       "<Figure size 432x288 with 1 Axes>"
      ]
     },
     "metadata": {
      "needs_background": "light"
     },
     "output_type": "display_data"
    }
   ],
   "source": [
    "import matplotlib.pyplot as plt\n",
    "for i in data_num.columns:\n",
    "    plt.hist(data_num[i],bins=9, align='right', color='blue', edgecolor='black')\n",
    "    plt.show()"
   ]
  },
  {
   "cell_type": "code",
   "execution_count": 11,
   "id": "f78445ea",
   "metadata": {},
   "outputs": [
    {
     "data": {
      "image/png": "[encoded data removed]",
      "text/plain": [
       "<Figure size 432x288 with 1 Axes>"
      ]
     },
     "metadata": {
      "needs_background": "light"
     },
     "output_type": "display_data"
    },
    {
     "data": {
      "image/png": "[encoded data removed]",
      "text/plain": [
       "<Figure size 432x288 with 1 Axes>"
      ]
     },
     "metadata": {
      "needs_background": "light"
     },
     "output_type": "display_data"
    },
    {
     "data": {
      "image/png": "[encoded data removed]",
      "text/plain": [
       "<Figure size 432x288 with 1 Axes>"
      ]
     },
     "metadata": {
      "needs_background": "light"
     },
     "output_type": "display_data"
    },
    {
     "data": {
      "image/png": "[encoded data removed]",
      "text/plain": [
       "<Figure size 432x288 with 1 Axes>"
      ]
     },
     "metadata": {
      "needs_background": "light"
     },
     "output_type": "display_data"
    }
   ],
   "source": [
    "# 3 - Vérifions l'existence de valeurs abérrantes pour data_num\n",
    "for i in data_num.columns:\n",
    " sns.boxplot(x=data_num[i])\n",
    " plt.show()"
   ]
  },
  {
   "cell_type": "code",
   "execution_count": 202,
   "id": "fbe9a693",
   "metadata": {},
   "outputs": [],
   "source": [
    "# Nous ne constatons aucune valeur aberrantes dans les données."
   ]
  },
  {
   "cell_type": "markdown",
   "id": "2786f4d7",
   "metadata": {},
   "source": [
    "# Nous allons construire des graphes pour des données catégoricielles VS variable cible  :HeartDisease"
   ]
  },
  {
   "cell_type": "code",
   "execution_count": 203,
   "id": "74d0f593",
   "metadata": {},
   "outputs": [
    {
     "data": {
      "image/png": "[encoded data removed]",
      "text/plain": [
       "<Figure size 1080x432 with 1 Axes>"
      ]
     },
     "metadata": {
      "needs_background": "light"
     },
     "output_type": "display_data"
    }
   ],
   "source": [
    "# Sex VS HeartDisease\n",
    "plt.figure(figsize=(15,6))\n",
    "sns.countplot('Sex',hue='HeartDisease', data = df)\n",
    "plt.xticks(rotation = 0)\n",
    "plt.show()"
   ]
  },
  {
   "cell_type": "code",
   "execution_count": 12,
   "id": "608be4e9",
   "metadata": {},
   "outputs": [
    {
     "data": {
      "image/png": "[encoded data removed]",
      "text/plain": [
       "<Figure size 1080x432 with 1 Axes>"
      ]
     },
     "metadata": {
      "needs_background": "light"
     },
     "output_type": "display_data"
    }
   ],
   "source": [
    "# Smoking VS HeartDisease\n",
    "plt.figure(figsize=(15,6))\n",
    "sns.countplot('Smoking',hue='HeartDisease',data=df)\n",
    "plt.xticks(rotation = 0)\n",
    "plt.show()\n"
   ]
  },
  {
   "cell_type": "code",
   "execution_count": 205,
   "id": "7bef6134",
   "metadata": {},
   "outputs": [
    {
     "data": {
      "image/png": "[encoded data removed]",
      "text/plain": [
       "<Figure size 1080x432 with 1 Axes>"
      ]
     },
     "metadata": {
      "needs_background": "light"
     },
     "output_type": "display_data"
    }
   ],
   "source": [
    "# Stroke VS HeartDisease\n",
    "plt.figure(figsize=(15,6))\n",
    "sns.countplot('Stroke',hue='HeartDisease',data=df)\n",
    "plt.xticks(rotation = 0)\n",
    "plt.show()"
   ]
  },
  {
   "cell_type": "code",
   "execution_count": 206,
   "id": "a2c3497e",
   "metadata": {},
   "outputs": [
    {
     "data": {
      "image/png": "[encoded data removed]",
      "text/plain": [
       "<Figure size 1440x432 with 1 Axes>"
      ]
     },
     "metadata": {
      "needs_background": "light"
     },
     "output_type": "display_data"
    }
   ],
   "source": [
    "# AgeCategory VS HeartDisease\n",
    "plt.figure(figsize=(20,6))\n",
    "sns.countplot('AgeCategory',hue='HeartDisease',data=df)\n",
    "plt.xticks(rotation = 0)\n",
    "plt.show()"
   ]
  },
  {
   "cell_type": "code",
   "execution_count": 207,
   "id": "075c1d51",
   "metadata": {},
   "outputs": [
    {
     "data": {
      "image/png": "[encoded data removed]",
      "text/plain": [
       "<Figure size 1440x432 with 1 Axes>"
      ]
     },
     "metadata": {
      "needs_background": "light"
     },
     "output_type": "display_data"
    }
   ],
   "source": [
    "# Race VS HeartDisease\n",
    "plt.figure(figsize=(20,6))\n",
    "sns.countplot('Race',hue='HeartDisease',data=df)\n",
    "plt.xticks(rotation = 0)\n",
    "plt.show()"
   ]
  },
  {
   "cell_type": "code",
   "execution_count": 208,
   "id": "a81d7247",
   "metadata": {},
   "outputs": [
    {
     "data": {
      "image/png": "[encoded data removed]",
      "text/plain": [
       "<Figure size 1152x432 with 1 Axes>"
      ]
     },
     "metadata": {
      "needs_background": "light"
     },
     "output_type": "display_data"
    }
   ],
   "source": [
    "# GenHealth VS HeartDisease\n",
    "plt.figure(figsize=(16,6))\n",
    "sns.countplot('GenHealth',hue='HeartDisease',data=df)\n",
    "plt.xticks(rotation = 0)\n",
    "plt.show()"
   ]
  },
  {
   "cell_type": "code",
   "execution_count": 209,
   "id": "b7548736",
   "metadata": {},
   "outputs": [
    {
     "data": {
      "image/png": "[encoded data removed]",
      "text/plain": [
       "<Figure size 720x432 with 1 Axes>"
      ]
     },
     "metadata": {
      "needs_background": "light"
     },
     "output_type": "display_data"
    }
   ],
   "source": [
    "# PhysicalHealth VS HeartDisease\n",
    "plt.figure(figsize=(10,6))\n",
    "sns.countplot('PhysicalHealth',hue='Sex',data=df)\n",
    "plt.xticks(rotation = 0)\n",
    "plt.show()"
   ]
  },
  {
   "cell_type": "code",
   "execution_count": 210,
   "id": "a37a0763",
   "metadata": {},
   "outputs": [
    {
     "data": {
      "image/png": "[encoded data removed]",
      "text/plain": [
       "<Figure size 720x432 with 1 Axes>"
      ]
     },
     "metadata": {
      "needs_background": "light"
     },
     "output_type": "display_data"
    }
   ],
   "source": [
    "# MentalHealth VS HeartDisease\n",
    "plt.figure(figsize=(10,6))\n",
    "sns.countplot('MentalHealth',hue='Sex',data=df)\n",
    "plt.xticks(rotation = 0)\n",
    "plt.show()"
   ]
  },
  {
   "cell_type": "code",
   "execution_count": 13,
   "id": "c9ef33f9",
   "metadata": {},
   "outputs": [],
   "source": [
    "# Tranformationdes variables catégoricielles en numériquesen utilisant l'encoder\n",
    "for i in data_cat.columns:\n",
    "    le=LabelEncoder()\n",
    "    label=le.fit_transform(data_cat[i])\n",
    "    data_cat[i]=label\n"
   ]
  },
  {
   "cell_type": "code",
   "execution_count": 14,
   "id": "af5bd26f",
   "metadata": {},
   "outputs": [],
   "source": [
    "# Nouvelle dataset après conversion\n",
    "full_pipeline = pd.concat([data_cat,data_num],axis=1)"
   ]
  },
  {
   "cell_type": "code",
   "execution_count": 213,
   "id": "7f522c35",
   "metadata": {},
   "outputs": [
    {
     "name": "stdout",
     "output_type": "stream",
     "text": [
      "   HeartDisease  Smoking  AlcoholDrinking  Stroke  DiffWalking  Sex  \\\n",
      "0             0        1                0       0            0    0   \n",
      "1             0        0                0       1            0    0   \n",
      "2             0        1                0       0            0    1   \n",
      "3             0        0                0       0            0    0   \n",
      "4             0        0                0       0            1    0   \n",
      "\n",
      "   AgeCategory  Race  Diabetic  PhysicalActivity  GenHealth  Asthma  \\\n",
      "0            7     5         2                 1          4       1   \n",
      "1           12     5         0                 1          4       0   \n",
      "2            9     5         2                 1          1       1   \n",
      "3           11     5         0                 0          2       0   \n",
      "4            4     5         0                 1          4       0   \n",
      "\n",
      "   KidneyDisease  SkinCancer    BMI  PhysicalHealth  MentalHealth  SleepTime  \n",
      "0              0           1  16.60             3.0          30.0        5.0  \n",
      "1              0           0  20.34             0.0           0.0        7.0  \n",
      "2              0           0  26.58            20.0          30.0        8.0  \n",
      "3              0           1  24.21             0.0           0.0        6.0  \n",
      "4              0           0  23.71            28.0           0.0        8.0  \n"
     ]
    }
   ],
   "source": [
    "# Affichage de la nouvelle base de données \n",
    "print(full_pipeline.head())"
   ]
  },
  {
   "cell_type": "code",
   "execution_count": 214,
   "id": "cc44d5f1",
   "metadata": {},
   "outputs": [
    {
     "name": "stdout",
     "output_type": "stream",
     "text": [
      "                  HeartDisease   Smoking  AlcoholDrinking    Stroke  \\\n",
      "HeartDisease          1.000000  0.107764        -0.032080  0.196835   \n",
      "Smoking               0.107764  1.000000         0.111768  0.061226   \n",
      "AlcoholDrinking      -0.032080  0.111768         1.000000 -0.019858   \n",
      "Stroke                0.196835  0.061226        -0.019858  1.000000   \n",
      "DiffWalking           0.201258  0.120074        -0.035328  0.174143   \n",
      "Sex                   0.070040  0.085052         0.004200 -0.003091   \n",
      "AgeCategory           0.233432  0.128331        -0.059528  0.137822   \n",
      "Race                  0.034854  0.065499         0.036702 -0.003956   \n",
      "Diabetic              0.168553  0.053847        -0.057372  0.101518   \n",
      "PhysicalActivity     -0.100030 -0.097174         0.017487 -0.079455   \n",
      "GenHealth            -0.011062  0.020625         0.001629 -0.009335   \n",
      "Asthma                0.041444  0.024149        -0.002202  0.038866   \n",
      "KidneyDisease         0.145197  0.034920        -0.028280  0.091167   \n",
      "SkinCancer            0.093317  0.033977        -0.005702  0.048116   \n",
      "BMI                   0.051803  0.023118        -0.038816  0.019733   \n",
      "PhysicalHealth        0.170721  0.115352        -0.017254  0.137014   \n",
      "MentalHealth          0.028591  0.085157         0.051282  0.046467   \n",
      "SleepTime             0.008327 -0.030336        -0.005065  0.011900   \n",
      "\n",
      "                  DiffWalking       Sex  AgeCategory      Race  Diabetic  \\\n",
      "HeartDisease         0.201258  0.070040     0.233432  0.034854  0.168553   \n",
      "Smoking              0.120074  0.085052     0.128331  0.065499  0.053847   \n",
      "AlcoholDrinking     -0.035328  0.004200    -0.059528  0.036702 -0.057372   \n",
      "Stroke               0.174143 -0.003091     0.137822 -0.003956  0.101518   \n",
      "DiffWalking          1.000000 -0.068860     0.243263 -0.015831  0.205502   \n",
      "Sex                 -0.068860  1.000000    -0.067478  0.018855 -0.013456   \n",
      "AgeCategory          0.243263 -0.067478     1.000000  0.163090  0.193745   \n",
      "Race                -0.015831  0.018855     0.163090  1.000000 -0.052216   \n",
      "Diabetic             0.205502 -0.013456     0.193745 -0.052216  1.000000   \n",
      "PhysicalActivity    -0.278524  0.048247    -0.121687  0.056767 -0.133824   \n",
      "GenHealth           -0.043552 -0.010283     0.044427  0.050344 -0.010854   \n",
      "Asthma               0.103222 -0.069191    -0.058108 -0.017975  0.049827   \n",
      "KidneyDisease        0.153064 -0.009084     0.123190  0.003709  0.142917   \n",
      "SkinCancer           0.064840  0.013434     0.263537  0.134780  0.032523   \n",
      "BMI                  0.181678  0.026940    -0.004744 -0.037424  0.202472   \n",
      "PhysicalHealth       0.428373 -0.040904     0.110763 -0.000847  0.151361   \n",
      "MentalHealth         0.152235 -0.100058    -0.155506 -0.014491  0.032945   \n",
      "SleepTime           -0.022216 -0.015704     0.104953  0.035889  0.000449   \n",
      "\n",
      "                  PhysicalActivity  GenHealth    Asthma  KidneyDisease  \\\n",
      "HeartDisease             -0.100030  -0.011062  0.041444       0.145197   \n",
      "Smoking                  -0.097174   0.020625  0.024149       0.034920   \n",
      "AlcoholDrinking           0.017487   0.001629 -0.002202      -0.028280   \n",
      "Stroke                   -0.079455  -0.009335  0.038866       0.091167   \n",
      "DiffWalking              -0.278524  -0.043552  0.103222       0.153064   \n",
      "Sex                       0.048247  -0.010283 -0.069191      -0.009084   \n",
      "AgeCategory              -0.121687   0.044427 -0.058108       0.123190   \n",
      "Race                      0.056767   0.050344 -0.017975       0.003709   \n",
      "Diabetic                 -0.133824  -0.010854  0.049827       0.142917   \n",
      "PhysicalActivity          1.000000   0.024418 -0.041526      -0.081827   \n",
      "GenHealth                 0.024418   1.000000  0.007280      -0.010580   \n",
      "Asthma                   -0.041526   0.007280  1.000000       0.039707   \n",
      "KidneyDisease            -0.081827  -0.010580  0.039707       1.000000   \n",
      "SkinCancer               -0.001328   0.018982 -0.000396       0.061816   \n",
      "BMI                      -0.150616   0.035932  0.092345       0.050768   \n",
      "PhysicalHealth           -0.232283  -0.035703  0.117907       0.142197   \n",
      "MentalHealth             -0.095808  -0.004412  0.114008       0.037281   \n",
      "SleepTime                 0.003849  -0.004163 -0.048245       0.006238   \n",
      "\n",
      "                  SkinCancer       BMI  PhysicalHealth  MentalHealth  \\\n",
      "HeartDisease        0.093317  0.051803        0.170721      0.028591   \n",
      "Smoking             0.033977  0.023118        0.115352      0.085157   \n",
      "AlcoholDrinking    -0.005702 -0.038816       -0.017254      0.051282   \n",
      "Stroke              0.048116  0.019733        0.137014      0.046467   \n",
      "DiffWalking         0.064840  0.181678        0.428373      0.152235   \n",
      "Sex                 0.013434  0.026940       -0.040904     -0.100058   \n",
      "AgeCategory         0.263537 -0.004744        0.110763     -0.155506   \n",
      "Race                0.134780 -0.037424       -0.000847     -0.014491   \n",
      "Diabetic            0.032523  0.202472        0.151361      0.032945   \n",
      "PhysicalActivity   -0.001328 -0.150616       -0.232283     -0.095808   \n",
      "GenHealth           0.018982  0.035932       -0.035703     -0.004412   \n",
      "Asthma             -0.000396  0.092345        0.117907      0.114008   \n",
      "KidneyDisease       0.061816  0.050768        0.142197      0.037281   \n",
      "SkinCancer          1.000000 -0.033644        0.041700     -0.033412   \n",
      "BMI                -0.033644  1.000000        0.109788      0.064131   \n",
      "PhysicalHealth      0.041700  0.109788        1.000000      0.287987   \n",
      "MentalHealth       -0.033412  0.064131        0.287987      1.000000   \n",
      "SleepTime           0.041266 -0.051822       -0.061387     -0.119717   \n",
      "\n",
      "                  SleepTime  \n",
      "HeartDisease       0.008327  \n",
      "Smoking           -0.030336  \n",
      "AlcoholDrinking   -0.005065  \n",
      "Stroke             0.011900  \n",
      "DiffWalking       -0.022216  \n",
      "Sex               -0.015704  \n",
      "AgeCategory        0.104953  \n",
      "Race               0.035889  \n",
      "Diabetic           0.000449  \n",
      "PhysicalActivity   0.003849  \n",
      "GenHealth         -0.004163  \n",
      "Asthma            -0.048245  \n",
      "KidneyDisease      0.006238  \n",
      "SkinCancer         0.041266  \n",
      "BMI               -0.051822  \n",
      "PhysicalHealth    -0.061387  \n",
      "MentalHealth      -0.119717  \n",
      "SleepTime          1.000000  \n"
     ]
    }
   ],
   "source": [
    "# Affichage de la corrélation entre les variables \n",
    "print(full_pipeline.corr())"
   ]
  },
  {
   "cell_type": "code",
   "execution_count": 15,
   "id": "20bf80fe",
   "metadata": {},
   "outputs": [
    {
     "data": {
      "image/png": "[encoded data removed]",
      "text/plain": [
       "<Figure size 1440x576 with 2 Axes>"
      ]
     },
     "metadata": {
      "needs_background": "light"
     },
     "output_type": "display_data"
    }
   ],
   "source": [
    "plt.figure(figsize=(20,8))\n",
    "sns.heatmap(full_pipeline.corr())\n",
    "plt.show()\n"
   ]
  },
  {
   "cell_type": "markdown",
   "id": "000c6d21",
   "metadata": {},
   "source": [
    " Nous allons éliminer les colonnes Race,BMI, car elles ne sont pas pertinentes pour l'objectif visé pour l'analayse de cette base de  données"
   ]
  },
  {
   "cell_type": "code",
   "execution_count": 16,
   "id": "6c5e0aaf",
   "metadata": {},
   "outputs": [],
   "source": [
    "full_pipeline.drop(['Race','BMI'],axis=1,inplace=True)"
   ]
  },
  {
   "cell_type": "code",
   "execution_count": 17,
   "id": "e368faba",
   "metadata": {},
   "outputs": [
    {
     "data": {
      "text/html": [
       "<div>\n",
       "<style scoped>\n",
       "    .dataframe tbody tr th:only-of-type {\n",
       "        vertical-align: middle;\n",
       "    }\n",
       "\n",
       "    .dataframe tbody tr th {\n",
       "        vertical-align: top;\n",
       "    }\n",
       "\n",
       "    .dataframe thead th {\n",
       "        text-align: right;\n",
       "    }\n",
       "</style>\n",
       "<table border=\"1\" class=\"dataframe\">\n",
       "  <thead>\n",
       "    <tr style=\"text-align: right;\">\n",
       "      <th></th>\n",
       "      <th>HeartDisease</th>\n",
       "      <th>Smoking</th>\n",
       "      <th>AlcoholDrinking</th>\n",
       "      <th>Stroke</th>\n",
       "      <th>DiffWalking</th>\n",
       "      <th>Sex</th>\n",
       "      <th>AgeCategory</th>\n",
       "      <th>Diabetic</th>\n",
       "      <th>PhysicalActivity</th>\n",
       "      <th>GenHealth</th>\n",
       "      <th>Asthma</th>\n",
       "      <th>KidneyDisease</th>\n",
       "      <th>SkinCancer</th>\n",
       "      <th>PhysicalHealth</th>\n",
       "      <th>MentalHealth</th>\n",
       "      <th>SleepTime</th>\n",
       "    </tr>\n",
       "  </thead>\n",
       "  <tbody>\n",
       "    <tr>\n",
       "      <th>0</th>\n",
       "      <td>0</td>\n",
       "      <td>1</td>\n",
       "      <td>0</td>\n",
       "      <td>0</td>\n",
       "      <td>0</td>\n",
       "      <td>0</td>\n",
       "      <td>7</td>\n",
       "      <td>2</td>\n",
       "      <td>1</td>\n",
       "      <td>4</td>\n",
       "      <td>1</td>\n",
       "      <td>0</td>\n",
       "      <td>1</td>\n",
       "      <td>3.0</td>\n",
       "      <td>30.0</td>\n",
       "      <td>5.0</td>\n",
       "    </tr>\n",
       "    <tr>\n",
       "      <th>1</th>\n",
       "      <td>0</td>\n",
       "      <td>0</td>\n",
       "      <td>0</td>\n",
       "      <td>1</td>\n",
       "      <td>0</td>\n",
       "      <td>0</td>\n",
       "      <td>12</td>\n",
       "      <td>0</td>\n",
       "      <td>1</td>\n",
       "      <td>4</td>\n",
       "      <td>0</td>\n",
       "      <td>0</td>\n",
       "      <td>0</td>\n",
       "      <td>0.0</td>\n",
       "      <td>0.0</td>\n",
       "      <td>7.0</td>\n",
       "    </tr>\n",
       "    <tr>\n",
       "      <th>2</th>\n",
       "      <td>0</td>\n",
       "      <td>1</td>\n",
       "      <td>0</td>\n",
       "      <td>0</td>\n",
       "      <td>0</td>\n",
       "      <td>1</td>\n",
       "      <td>9</td>\n",
       "      <td>2</td>\n",
       "      <td>1</td>\n",
       "      <td>1</td>\n",
       "      <td>1</td>\n",
       "      <td>0</td>\n",
       "      <td>0</td>\n",
       "      <td>20.0</td>\n",
       "      <td>30.0</td>\n",
       "      <td>8.0</td>\n",
       "    </tr>\n",
       "    <tr>\n",
       "      <th>3</th>\n",
       "      <td>0</td>\n",
       "      <td>0</td>\n",
       "      <td>0</td>\n",
       "      <td>0</td>\n",
       "      <td>0</td>\n",
       "      <td>0</td>\n",
       "      <td>11</td>\n",
       "      <td>0</td>\n",
       "      <td>0</td>\n",
       "      <td>2</td>\n",
       "      <td>0</td>\n",
       "      <td>0</td>\n",
       "      <td>1</td>\n",
       "      <td>0.0</td>\n",
       "      <td>0.0</td>\n",
       "      <td>6.0</td>\n",
       "    </tr>\n",
       "    <tr>\n",
       "      <th>4</th>\n",
       "      <td>0</td>\n",
       "      <td>0</td>\n",
       "      <td>0</td>\n",
       "      <td>0</td>\n",
       "      <td>1</td>\n",
       "      <td>0</td>\n",
       "      <td>4</td>\n",
       "      <td>0</td>\n",
       "      <td>1</td>\n",
       "      <td>4</td>\n",
       "      <td>0</td>\n",
       "      <td>0</td>\n",
       "      <td>0</td>\n",
       "      <td>28.0</td>\n",
       "      <td>0.0</td>\n",
       "      <td>8.0</td>\n",
       "    </tr>\n",
       "  </tbody>\n",
       "</table>\n",
       "</div>"
      ],
      "text/plain": [
       "   HeartDisease  Smoking  AlcoholDrinking  Stroke  DiffWalking  Sex  \\\n",
       "0             0        1                0       0            0    0   \n",
       "1             0        0                0       1            0    0   \n",
       "2             0        1                0       0            0    1   \n",
       "3             0        0                0       0            0    0   \n",
       "4             0        0                0       0            1    0   \n",
       "\n",
       "   AgeCategory  Diabetic  PhysicalActivity  GenHealth  Asthma  KidneyDisease  \\\n",
       "0            7         2                 1          4       1              0   \n",
       "1           12         0                 1          4       0              0   \n",
       "2            9         2                 1          1       1              0   \n",
       "3           11         0                 0          2       0              0   \n",
       "4            4         0                 1          4       0              0   \n",
       "\n",
       "   SkinCancer  PhysicalHealth  MentalHealth  SleepTime  \n",
       "0           1             3.0          30.0        5.0  \n",
       "1           0             0.0           0.0        7.0  \n",
       "2           0            20.0          30.0        8.0  \n",
       "3           1             0.0           0.0        6.0  \n",
       "4           0            28.0           0.0        8.0  "
      ]
     },
     "execution_count": 17,
     "metadata": {},
     "output_type": "execute_result"
    }
   ],
   "source": [
    "# Affichage \n",
    "full_pipeline.head()"
   ]
  },
  {
   "cell_type": "markdown",
   "id": "70a7b357",
   "metadata": {},
   "source": [
    "II - Modélisation "
   ]
  },
  {
   "cell_type": "code",
   "execution_count": 22,
   "id": "701cecc8",
   "metadata": {},
   "outputs": [],
   "source": [
    "# separation entre les données d'entrainement(tba) et test\n",
    "tba, test_set = train_test_split(full_pipeline, test_size=0.3, random_state=42)"
   ]
  },
  {
   "cell_type": "code",
   "execution_count": 23,
   "id": "8cf16a91",
   "metadata": {},
   "outputs": [
    {
     "data": {
      "text/plain": [
       "(223856, 16)"
      ]
     },
     "execution_count": 23,
     "metadata": {},
     "output_type": "execute_result"
    }
   ],
   "source": [
    "tba.shape"
   ]
  },
  {
   "cell_type": "code",
   "execution_count": 220,
   "id": "7e89f009",
   "metadata": {},
   "outputs": [
    {
     "data": {
      "text/html": [
       "<div>\n",
       "<style scoped>\n",
       "    .dataframe tbody tr th:only-of-type {\n",
       "        vertical-align: middle;\n",
       "    }\n",
       "\n",
       "    .dataframe tbody tr th {\n",
       "        vertical-align: top;\n",
       "    }\n",
       "\n",
       "    .dataframe thead th {\n",
       "        text-align: right;\n",
       "    }\n",
       "</style>\n",
       "<table border=\"1\" class=\"dataframe\">\n",
       "  <thead>\n",
       "    <tr style=\"text-align: right;\">\n",
       "      <th></th>\n",
       "      <th>HeartDisease</th>\n",
       "      <th>Smoking</th>\n",
       "      <th>AlcoholDrinking</th>\n",
       "      <th>Stroke</th>\n",
       "      <th>DiffWalking</th>\n",
       "      <th>Sex</th>\n",
       "      <th>AgeCategory</th>\n",
       "      <th>Diabetic</th>\n",
       "      <th>PhysicalActivity</th>\n",
       "      <th>GenHealth</th>\n",
       "      <th>Asthma</th>\n",
       "      <th>KidneyDisease</th>\n",
       "      <th>SkinCancer</th>\n",
       "      <th>PhysicalHealth</th>\n",
       "      <th>MentalHealth</th>\n",
       "      <th>SleepTime</th>\n",
       "    </tr>\n",
       "  </thead>\n",
       "  <tbody>\n",
       "    <tr>\n",
       "      <th>303145</th>\n",
       "      <td>0</td>\n",
       "      <td>0</td>\n",
       "      <td>0</td>\n",
       "      <td>0</td>\n",
       "      <td>0</td>\n",
       "      <td>0</td>\n",
       "      <td>5</td>\n",
       "      <td>0</td>\n",
       "      <td>1</td>\n",
       "      <td>0</td>\n",
       "      <td>0</td>\n",
       "      <td>0</td>\n",
       "      <td>0</td>\n",
       "      <td>4.0</td>\n",
       "      <td>0.0</td>\n",
       "      <td>8.0</td>\n",
       "    </tr>\n",
       "    <tr>\n",
       "      <th>61634</th>\n",
       "      <td>0</td>\n",
       "      <td>0</td>\n",
       "      <td>0</td>\n",
       "      <td>0</td>\n",
       "      <td>0</td>\n",
       "      <td>0</td>\n",
       "      <td>10</td>\n",
       "      <td>2</td>\n",
       "      <td>1</td>\n",
       "      <td>4</td>\n",
       "      <td>0</td>\n",
       "      <td>1</td>\n",
       "      <td>0</td>\n",
       "      <td>0.0</td>\n",
       "      <td>0.0</td>\n",
       "      <td>7.0</td>\n",
       "    </tr>\n",
       "    <tr>\n",
       "      <th>117690</th>\n",
       "      <td>0</td>\n",
       "      <td>0</td>\n",
       "      <td>0</td>\n",
       "      <td>0</td>\n",
       "      <td>0</td>\n",
       "      <td>1</td>\n",
       "      <td>6</td>\n",
       "      <td>2</td>\n",
       "      <td>1</td>\n",
       "      <td>2</td>\n",
       "      <td>0</td>\n",
       "      <td>0</td>\n",
       "      <td>0</td>\n",
       "      <td>0.0</td>\n",
       "      <td>0.0</td>\n",
       "      <td>6.0</td>\n",
       "    </tr>\n",
       "    <tr>\n",
       "      <th>132104</th>\n",
       "      <td>0</td>\n",
       "      <td>1</td>\n",
       "      <td>0</td>\n",
       "      <td>0</td>\n",
       "      <td>0</td>\n",
       "      <td>1</td>\n",
       "      <td>12</td>\n",
       "      <td>0</td>\n",
       "      <td>1</td>\n",
       "      <td>4</td>\n",
       "      <td>0</td>\n",
       "      <td>0</td>\n",
       "      <td>0</td>\n",
       "      <td>0.0</td>\n",
       "      <td>0.0</td>\n",
       "      <td>8.0</td>\n",
       "    </tr>\n",
       "    <tr>\n",
       "      <th>262165</th>\n",
       "      <td>0</td>\n",
       "      <td>0</td>\n",
       "      <td>0</td>\n",
       "      <td>0</td>\n",
       "      <td>0</td>\n",
       "      <td>0</td>\n",
       "      <td>11</td>\n",
       "      <td>0</td>\n",
       "      <td>1</td>\n",
       "      <td>4</td>\n",
       "      <td>1</td>\n",
       "      <td>0</td>\n",
       "      <td>0</td>\n",
       "      <td>0.0</td>\n",
       "      <td>0.0</td>\n",
       "      <td>7.0</td>\n",
       "    </tr>\n",
       "  </tbody>\n",
       "</table>\n",
       "</div>"
      ],
      "text/plain": [
       "        HeartDisease  Smoking  AlcoholDrinking  Stroke  DiffWalking  Sex  \\\n",
       "303145             0        0                0       0            0    0   \n",
       "61634              0        0                0       0            0    0   \n",
       "117690             0        0                0       0            0    1   \n",
       "132104             0        1                0       0            0    1   \n",
       "262165             0        0                0       0            0    0   \n",
       "\n",
       "        AgeCategory  Diabetic  PhysicalActivity  GenHealth  Asthma  \\\n",
       "303145            5         0                 1          0       0   \n",
       "61634            10         2                 1          4       0   \n",
       "117690            6         2                 1          2       0   \n",
       "132104           12         0                 1          4       0   \n",
       "262165           11         0                 1          4       1   \n",
       "\n",
       "        KidneyDisease  SkinCancer  PhysicalHealth  MentalHealth  SleepTime  \n",
       "303145              0           0             4.0           0.0        8.0  \n",
       "61634               1           0             0.0           0.0        7.0  \n",
       "117690              0           0             0.0           0.0        6.0  \n",
       "132104              0           0             0.0           0.0        8.0  \n",
       "262165              0           0             0.0           0.0        7.0  "
      ]
     },
     "execution_count": 220,
     "metadata": {},
     "output_type": "execute_result"
    }
   ],
   "source": [
    "tba.head()"
   ]
  },
  {
   "cell_type": "code",
   "execution_count": 54,
   "id": "7c8b1f1d",
   "metadata": {},
   "outputs": [
    {
     "data": {
      "text/html": [
       "<div>\n",
       "<style scoped>\n",
       "    .dataframe tbody tr th:only-of-type {\n",
       "        vertical-align: middle;\n",
       "    }\n",
       "\n",
       "    .dataframe tbody tr th {\n",
       "        vertical-align: top;\n",
       "    }\n",
       "\n",
       "    .dataframe thead th {\n",
       "        text-align: right;\n",
       "    }\n",
       "</style>\n",
       "<table border=\"1\" class=\"dataframe\">\n",
       "  <thead>\n",
       "    <tr style=\"text-align: right;\">\n",
       "      <th></th>\n",
       "      <th>Smoking</th>\n",
       "      <th>AlcoholDrinking</th>\n",
       "      <th>Stroke</th>\n",
       "      <th>DiffWalking</th>\n",
       "      <th>Sex</th>\n",
       "      <th>AgeCategory</th>\n",
       "      <th>Diabetic</th>\n",
       "      <th>PhysicalActivity</th>\n",
       "      <th>GenHealth</th>\n",
       "      <th>Asthma</th>\n",
       "      <th>KidneyDisease</th>\n",
       "      <th>SkinCancer</th>\n",
       "      <th>PhysicalHealth</th>\n",
       "      <th>MentalHealth</th>\n",
       "      <th>SleepTime</th>\n",
       "    </tr>\n",
       "  </thead>\n",
       "  <tbody>\n",
       "    <tr>\n",
       "      <th>277268</th>\n",
       "      <td>1</td>\n",
       "      <td>0</td>\n",
       "      <td>0</td>\n",
       "      <td>0</td>\n",
       "      <td>1</td>\n",
       "      <td>10</td>\n",
       "      <td>0</td>\n",
       "      <td>1</td>\n",
       "      <td>4</td>\n",
       "      <td>0</td>\n",
       "      <td>0</td>\n",
       "      <td>0</td>\n",
       "      <td>0.0</td>\n",
       "      <td>0.0</td>\n",
       "      <td>7.0</td>\n",
       "    </tr>\n",
       "    <tr>\n",
       "      <th>118440</th>\n",
       "      <td>0</td>\n",
       "      <td>0</td>\n",
       "      <td>0</td>\n",
       "      <td>1</td>\n",
       "      <td>1</td>\n",
       "      <td>12</td>\n",
       "      <td>0</td>\n",
       "      <td>0</td>\n",
       "      <td>1</td>\n",
       "      <td>0</td>\n",
       "      <td>0</td>\n",
       "      <td>0</td>\n",
       "      <td>0.0</td>\n",
       "      <td>0.0</td>\n",
       "      <td>6.0</td>\n",
       "    </tr>\n",
       "    <tr>\n",
       "      <th>154578</th>\n",
       "      <td>0</td>\n",
       "      <td>0</td>\n",
       "      <td>0</td>\n",
       "      <td>0</td>\n",
       "      <td>1</td>\n",
       "      <td>9</td>\n",
       "      <td>0</td>\n",
       "      <td>1</td>\n",
       "      <td>0</td>\n",
       "      <td>0</td>\n",
       "      <td>0</td>\n",
       "      <td>0</td>\n",
       "      <td>8.0</td>\n",
       "      <td>0.0</td>\n",
       "      <td>8.0</td>\n",
       "    </tr>\n",
       "    <tr>\n",
       "      <th>140572</th>\n",
       "      <td>1</td>\n",
       "      <td>0</td>\n",
       "      <td>0</td>\n",
       "      <td>0</td>\n",
       "      <td>1</td>\n",
       "      <td>7</td>\n",
       "      <td>0</td>\n",
       "      <td>1</td>\n",
       "      <td>4</td>\n",
       "      <td>0</td>\n",
       "      <td>0</td>\n",
       "      <td>0</td>\n",
       "      <td>0.0</td>\n",
       "      <td>0.0</td>\n",
       "      <td>7.0</td>\n",
       "    </tr>\n",
       "    <tr>\n",
       "      <th>111545</th>\n",
       "      <td>0</td>\n",
       "      <td>0</td>\n",
       "      <td>0</td>\n",
       "      <td>0</td>\n",
       "      <td>1</td>\n",
       "      <td>7</td>\n",
       "      <td>2</td>\n",
       "      <td>0</td>\n",
       "      <td>4</td>\n",
       "      <td>0</td>\n",
       "      <td>0</td>\n",
       "      <td>1</td>\n",
       "      <td>0.0</td>\n",
       "      <td>0.0</td>\n",
       "      <td>6.0</td>\n",
       "    </tr>\n",
       "  </tbody>\n",
       "</table>\n",
       "</div>"
      ],
      "text/plain": [
       "        Smoking  AlcoholDrinking  Stroke  DiffWalking  Sex  AgeCategory  \\\n",
       "277268        1                0       0            0    1           10   \n",
       "118440        0                0       0            1    1           12   \n",
       "154578        0                0       0            0    1            9   \n",
       "140572        1                0       0            0    1            7   \n",
       "111545        0                0       0            0    1            7   \n",
       "\n",
       "        Diabetic  PhysicalActivity  GenHealth  Asthma  KidneyDisease  \\\n",
       "277268         0                 1          4       0              0   \n",
       "118440         0                 0          1       0              0   \n",
       "154578         0                 1          0       0              0   \n",
       "140572         0                 1          4       0              0   \n",
       "111545         2                 0          4       0              0   \n",
       "\n",
       "        SkinCancer  PhysicalHealth  MentalHealth  SleepTime  \n",
       "277268           0             0.0           0.0        7.0  \n",
       "118440           0             0.0           0.0        6.0  \n",
       "154578           0             8.0           0.0        8.0  \n",
       "140572           0             0.0           0.0        7.0  \n",
       "111545           1             0.0           0.0        6.0  "
      ]
     },
     "execution_count": 54,
     "metadata": {},
     "output_type": "execute_result"
    }
   ],
   "source": [
    "# Test le pipeline\n",
    "from sklearn.pipeline import Pipeline\n",
    "leData = X_train\n",
    "pd.DataFrame(leData).head()"
   ]
  },
  {
   "cell_type": "code",
   "execution_count": 29,
   "id": "ddfd9fd9",
   "metadata": {},
   "outputs": [
    {
     "data": {
      "text/html": [
       "<div>\n",
       "<style scoped>\n",
       "    .dataframe tbody tr th:only-of-type {\n",
       "        vertical-align: middle;\n",
       "    }\n",
       "\n",
       "    .dataframe tbody tr th {\n",
       "        vertical-align: top;\n",
       "    }\n",
       "\n",
       "    .dataframe thead th {\n",
       "        text-align: right;\n",
       "    }\n",
       "</style>\n",
       "<table border=\"1\" class=\"dataframe\">\n",
       "  <thead>\n",
       "    <tr style=\"text-align: right;\">\n",
       "      <th></th>\n",
       "      <th>Smoking</th>\n",
       "      <th>AlcoholDrinking</th>\n",
       "      <th>Stroke</th>\n",
       "      <th>DiffWalking</th>\n",
       "      <th>Sex</th>\n",
       "      <th>AgeCategory</th>\n",
       "      <th>Diabetic</th>\n",
       "      <th>PhysicalActivity</th>\n",
       "      <th>GenHealth</th>\n",
       "      <th>Asthma</th>\n",
       "      <th>KidneyDisease</th>\n",
       "      <th>SkinCancer</th>\n",
       "      <th>PhysicalHealth</th>\n",
       "      <th>MentalHealth</th>\n",
       "      <th>SleepTime</th>\n",
       "      <th>HeartDisease</th>\n",
       "    </tr>\n",
       "  </thead>\n",
       "  <tbody>\n",
       "    <tr>\n",
       "      <th>303145</th>\n",
       "      <td>0</td>\n",
       "      <td>0</td>\n",
       "      <td>0</td>\n",
       "      <td>0</td>\n",
       "      <td>0</td>\n",
       "      <td>5</td>\n",
       "      <td>0</td>\n",
       "      <td>1</td>\n",
       "      <td>0</td>\n",
       "      <td>0</td>\n",
       "      <td>0</td>\n",
       "      <td>0</td>\n",
       "      <td>4.0</td>\n",
       "      <td>0.0</td>\n",
       "      <td>8.0</td>\n",
       "      <td>0</td>\n",
       "    </tr>\n",
       "    <tr>\n",
       "      <th>61634</th>\n",
       "      <td>0</td>\n",
       "      <td>0</td>\n",
       "      <td>0</td>\n",
       "      <td>0</td>\n",
       "      <td>0</td>\n",
       "      <td>10</td>\n",
       "      <td>2</td>\n",
       "      <td>1</td>\n",
       "      <td>4</td>\n",
       "      <td>0</td>\n",
       "      <td>1</td>\n",
       "      <td>0</td>\n",
       "      <td>0.0</td>\n",
       "      <td>0.0</td>\n",
       "      <td>7.0</td>\n",
       "      <td>0</td>\n",
       "    </tr>\n",
       "    <tr>\n",
       "      <th>117690</th>\n",
       "      <td>0</td>\n",
       "      <td>0</td>\n",
       "      <td>0</td>\n",
       "      <td>0</td>\n",
       "      <td>1</td>\n",
       "      <td>6</td>\n",
       "      <td>2</td>\n",
       "      <td>1</td>\n",
       "      <td>2</td>\n",
       "      <td>0</td>\n",
       "      <td>0</td>\n",
       "      <td>0</td>\n",
       "      <td>0.0</td>\n",
       "      <td>0.0</td>\n",
       "      <td>6.0</td>\n",
       "      <td>0</td>\n",
       "    </tr>\n",
       "    <tr>\n",
       "      <th>132104</th>\n",
       "      <td>1</td>\n",
       "      <td>0</td>\n",
       "      <td>0</td>\n",
       "      <td>0</td>\n",
       "      <td>1</td>\n",
       "      <td>12</td>\n",
       "      <td>0</td>\n",
       "      <td>1</td>\n",
       "      <td>4</td>\n",
       "      <td>0</td>\n",
       "      <td>0</td>\n",
       "      <td>0</td>\n",
       "      <td>0.0</td>\n",
       "      <td>0.0</td>\n",
       "      <td>8.0</td>\n",
       "      <td>0</td>\n",
       "    </tr>\n",
       "    <tr>\n",
       "      <th>262165</th>\n",
       "      <td>0</td>\n",
       "      <td>0</td>\n",
       "      <td>0</td>\n",
       "      <td>0</td>\n",
       "      <td>0</td>\n",
       "      <td>11</td>\n",
       "      <td>0</td>\n",
       "      <td>1</td>\n",
       "      <td>4</td>\n",
       "      <td>1</td>\n",
       "      <td>0</td>\n",
       "      <td>0</td>\n",
       "      <td>0.0</td>\n",
       "      <td>0.0</td>\n",
       "      <td>7.0</td>\n",
       "      <td>0</td>\n",
       "    </tr>\n",
       "    <tr>\n",
       "      <th>170113</th>\n",
       "      <td>1</td>\n",
       "      <td>0</td>\n",
       "      <td>0</td>\n",
       "      <td>0</td>\n",
       "      <td>1</td>\n",
       "      <td>8</td>\n",
       "      <td>0</td>\n",
       "      <td>0</td>\n",
       "      <td>4</td>\n",
       "      <td>0</td>\n",
       "      <td>0</td>\n",
       "      <td>0</td>\n",
       "      <td>0.0</td>\n",
       "      <td>0.0</td>\n",
       "      <td>8.0</td>\n",
       "      <td>0</td>\n",
       "    </tr>\n",
       "    <tr>\n",
       "      <th>215760</th>\n",
       "      <td>1</td>\n",
       "      <td>0</td>\n",
       "      <td>0</td>\n",
       "      <td>0</td>\n",
       "      <td>0</td>\n",
       "      <td>9</td>\n",
       "      <td>0</td>\n",
       "      <td>1</td>\n",
       "      <td>4</td>\n",
       "      <td>0</td>\n",
       "      <td>0</td>\n",
       "      <td>0</td>\n",
       "      <td>0.0</td>\n",
       "      <td>0.0</td>\n",
       "      <td>7.0</td>\n",
       "      <td>0</td>\n",
       "    </tr>\n",
       "    <tr>\n",
       "      <th>42629</th>\n",
       "      <td>0</td>\n",
       "      <td>0</td>\n",
       "      <td>0</td>\n",
       "      <td>0</td>\n",
       "      <td>1</td>\n",
       "      <td>12</td>\n",
       "      <td>0</td>\n",
       "      <td>1</td>\n",
       "      <td>2</td>\n",
       "      <td>0</td>\n",
       "      <td>0</td>\n",
       "      <td>0</td>\n",
       "      <td>0.0</td>\n",
       "      <td>30.0</td>\n",
       "      <td>8.0</td>\n",
       "      <td>0</td>\n",
       "    </tr>\n",
       "    <tr>\n",
       "      <th>181119</th>\n",
       "      <td>0</td>\n",
       "      <td>0</td>\n",
       "      <td>0</td>\n",
       "      <td>0</td>\n",
       "      <td>1</td>\n",
       "      <td>5</td>\n",
       "      <td>0</td>\n",
       "      <td>0</td>\n",
       "      <td>2</td>\n",
       "      <td>0</td>\n",
       "      <td>0</td>\n",
       "      <td>0</td>\n",
       "      <td>15.0</td>\n",
       "      <td>0.0</td>\n",
       "      <td>8.0</td>\n",
       "      <td>0</td>\n",
       "    </tr>\n",
       "    <tr>\n",
       "      <th>43343</th>\n",
       "      <td>1</td>\n",
       "      <td>0</td>\n",
       "      <td>0</td>\n",
       "      <td>0</td>\n",
       "      <td>0</td>\n",
       "      <td>8</td>\n",
       "      <td>2</td>\n",
       "      <td>1</td>\n",
       "      <td>4</td>\n",
       "      <td>0</td>\n",
       "      <td>0</td>\n",
       "      <td>0</td>\n",
       "      <td>0.0</td>\n",
       "      <td>0.0</td>\n",
       "      <td>8.0</td>\n",
       "      <td>0</td>\n",
       "    </tr>\n",
       "  </tbody>\n",
       "</table>\n",
       "</div>"
      ],
      "text/plain": [
       "        Smoking  AlcoholDrinking  Stroke  DiffWalking  Sex  AgeCategory  \\\n",
       "303145        0                0       0            0    0            5   \n",
       "61634         0                0       0            0    0           10   \n",
       "117690        0                0       0            0    1            6   \n",
       "132104        1                0       0            0    1           12   \n",
       "262165        0                0       0            0    0           11   \n",
       "170113        1                0       0            0    1            8   \n",
       "215760        1                0       0            0    0            9   \n",
       "42629         0                0       0            0    1           12   \n",
       "181119        0                0       0            0    1            5   \n",
       "43343         1                0       0            0    0            8   \n",
       "\n",
       "        Diabetic  PhysicalActivity  GenHealth  Asthma  KidneyDisease  \\\n",
       "303145         0                 1          0       0              0   \n",
       "61634          2                 1          4       0              1   \n",
       "117690         2                 1          2       0              0   \n",
       "132104         0                 1          4       0              0   \n",
       "262165         0                 1          4       1              0   \n",
       "170113         0                 0          4       0              0   \n",
       "215760         0                 1          4       0              0   \n",
       "42629          0                 1          2       0              0   \n",
       "181119         0                 0          2       0              0   \n",
       "43343          2                 1          4       0              0   \n",
       "\n",
       "        SkinCancer  PhysicalHealth  MentalHealth  SleepTime  HeartDisease  \n",
       "303145           0             4.0           0.0        8.0             0  \n",
       "61634            0             0.0           0.0        7.0             0  \n",
       "117690           0             0.0           0.0        6.0             0  \n",
       "132104           0             0.0           0.0        8.0             0  \n",
       "262165           0             0.0           0.0        7.0             0  \n",
       "170113           0             0.0           0.0        8.0             0  \n",
       "215760           0             0.0           0.0        7.0             0  \n",
       "42629            0             0.0          30.0        8.0             0  \n",
       "181119           0            15.0           0.0        8.0             0  \n",
       "43343            0             0.0           0.0        8.0             0  "
      ]
     },
     "execution_count": 29,
     "metadata": {},
     "output_type": "execute_result"
    }
   ],
   "source": [
    "#transformationn de la sortie HeartDisease en sortie binaire.\n",
    "tba_ss = tba.drop([\"HeartDisease\"], axis=1)\n",
    "sortie=tba[\"HeartDisease\"]\n",
    "tba=tba_ss.assign(HeartDisease=sortie)\n",
    "tba.head(10)"
   ]
  },
  {
   "cell_type": "code",
   "execution_count": 30,
   "id": "54d7162f",
   "metadata": {},
   "outputs": [],
   "source": [
    "#il faut séparer les entrées/sorties\n",
    "X_train=train_set.drop(['HeartDisease'], axis=1)\n",
    "y_train=train_set['HeartDisease']"
   ]
  },
  {
   "cell_type": "code",
   "execution_count": 31,
   "id": "10ec7c9e",
   "metadata": {},
   "outputs": [
    {
     "name": "stdout",
     "output_type": "stream",
     "text": [
      "0    0.91475\n",
      "1    0.08525\n",
      "Name: HeartDisease, dtype: float64\n"
     ]
    },
    {
     "data": {
      "text/plain": [
       "(4000, 16)"
      ]
     },
     "execution_count": 31,
     "metadata": {},
     "output_type": "execute_result"
    }
   ],
   "source": [
    "#échantillonnage stratifié par rapport a la tba\n",
    "train_set = resample(tba, n_samples=4000, replace=False,stratify=tba['HeartDisease'], random_state=5)\n",
    "#calcul de la proportion des indvidus par rapport a la classe de sortie HeartDisease dans le jeu d'entrainement. \n",
    "#Il y a autant d'individus par classe\n",
    "print(train_set['HeartDisease'].value_counts()/len(train_set))\n",
    "train_set.shape"
   ]
  },
  {
   "cell_type": "code",
   "execution_count": null,
   "id": "89fcbc85",
   "metadata": {},
   "outputs": [],
   "source": []
  },
  {
   "cell_type": "code",
   "execution_count": 55,
   "id": "1b247457",
   "metadata": {},
   "outputs": [
    {
     "data": {
      "text/plain": [
       "DecisionTreeClassifier(criterion='entropy')"
      ]
     },
     "execution_count": 55,
     "metadata": {},
     "output_type": "execute_result"
    }
   ],
   "source": [
    "#exemple d'utilisation d'un arbre de décision\n",
    "from sklearn.tree import DecisionTreeClassifier\n",
    "clf= DecisionTreeClassifier(criterion=\"entropy\")\n",
    "clf.fit(leData, y_train)"
   ]
  },
  {
   "cell_type": "code",
   "execution_count": 33,
   "id": "7c95eca1",
   "metadata": {},
   "outputs": [
    {
     "data": {
      "text/html": [
       "<div>\n",
       "<style scoped>\n",
       "    .dataframe tbody tr th:only-of-type {\n",
       "        vertical-align: middle;\n",
       "    }\n",
       "\n",
       "    .dataframe tbody tr th {\n",
       "        vertical-align: top;\n",
       "    }\n",
       "\n",
       "    .dataframe thead th {\n",
       "        text-align: right;\n",
       "    }\n",
       "</style>\n",
       "<table border=\"1\" class=\"dataframe\">\n",
       "  <thead>\n",
       "    <tr style=\"text-align: right;\">\n",
       "      <th></th>\n",
       "      <th>Smoking</th>\n",
       "      <th>AlcoholDrinking</th>\n",
       "      <th>Stroke</th>\n",
       "      <th>DiffWalking</th>\n",
       "      <th>Sex</th>\n",
       "      <th>AgeCategory</th>\n",
       "      <th>Diabetic</th>\n",
       "      <th>PhysicalActivity</th>\n",
       "      <th>GenHealth</th>\n",
       "      <th>Asthma</th>\n",
       "      <th>KidneyDisease</th>\n",
       "      <th>SkinCancer</th>\n",
       "      <th>PhysicalHealth</th>\n",
       "      <th>MentalHealth</th>\n",
       "      <th>SleepTime</th>\n",
       "    </tr>\n",
       "  </thead>\n",
       "  <tbody>\n",
       "    <tr>\n",
       "      <th>271884</th>\n",
       "      <td>1</td>\n",
       "      <td>0</td>\n",
       "      <td>0</td>\n",
       "      <td>0</td>\n",
       "      <td>0</td>\n",
       "      <td>1</td>\n",
       "      <td>0</td>\n",
       "      <td>1</td>\n",
       "      <td>4</td>\n",
       "      <td>0</td>\n",
       "      <td>0</td>\n",
       "      <td>0</td>\n",
       "      <td>0.0</td>\n",
       "      <td>25.0</td>\n",
       "      <td>7.0</td>\n",
       "    </tr>\n",
       "    <tr>\n",
       "      <th>270361</th>\n",
       "      <td>0</td>\n",
       "      <td>0</td>\n",
       "      <td>0</td>\n",
       "      <td>0</td>\n",
       "      <td>0</td>\n",
       "      <td>2</td>\n",
       "      <td>0</td>\n",
       "      <td>1</td>\n",
       "      <td>0</td>\n",
       "      <td>0</td>\n",
       "      <td>0</td>\n",
       "      <td>1</td>\n",
       "      <td>0.0</td>\n",
       "      <td>20.0</td>\n",
       "      <td>6.0</td>\n",
       "    </tr>\n",
       "    <tr>\n",
       "      <th>219060</th>\n",
       "      <td>1</td>\n",
       "      <td>0</td>\n",
       "      <td>0</td>\n",
       "      <td>0</td>\n",
       "      <td>0</td>\n",
       "      <td>4</td>\n",
       "      <td>0</td>\n",
       "      <td>1</td>\n",
       "      <td>4</td>\n",
       "      <td>1</td>\n",
       "      <td>0</td>\n",
       "      <td>0</td>\n",
       "      <td>0.0</td>\n",
       "      <td>0.0</td>\n",
       "      <td>6.0</td>\n",
       "    </tr>\n",
       "    <tr>\n",
       "      <th>24010</th>\n",
       "      <td>0</td>\n",
       "      <td>0</td>\n",
       "      <td>0</td>\n",
       "      <td>0</td>\n",
       "      <td>0</td>\n",
       "      <td>9</td>\n",
       "      <td>0</td>\n",
       "      <td>0</td>\n",
       "      <td>2</td>\n",
       "      <td>0</td>\n",
       "      <td>0</td>\n",
       "      <td>0</td>\n",
       "      <td>30.0</td>\n",
       "      <td>0.0</td>\n",
       "      <td>8.0</td>\n",
       "    </tr>\n",
       "    <tr>\n",
       "      <th>181930</th>\n",
       "      <td>1</td>\n",
       "      <td>0</td>\n",
       "      <td>0</td>\n",
       "      <td>1</td>\n",
       "      <td>0</td>\n",
       "      <td>8</td>\n",
       "      <td>0</td>\n",
       "      <td>0</td>\n",
       "      <td>1</td>\n",
       "      <td>1</td>\n",
       "      <td>0</td>\n",
       "      <td>1</td>\n",
       "      <td>30.0</td>\n",
       "      <td>30.0</td>\n",
       "      <td>4.0</td>\n",
       "    </tr>\n",
       "  </tbody>\n",
       "</table>\n",
       "</div>"
      ],
      "text/plain": [
       "        Smoking  AlcoholDrinking  Stroke  DiffWalking  Sex  AgeCategory  \\\n",
       "271884        1                0       0            0    0            1   \n",
       "270361        0                0       0            0    0            2   \n",
       "219060        1                0       0            0    0            4   \n",
       "24010         0                0       0            0    0            9   \n",
       "181930        1                0       0            1    0            8   \n",
       "\n",
       "        Diabetic  PhysicalActivity  GenHealth  Asthma  KidneyDisease  \\\n",
       "271884         0                 1          4       0              0   \n",
       "270361         0                 1          0       0              0   \n",
       "219060         0                 1          4       1              0   \n",
       "24010          0                 0          2       0              0   \n",
       "181930         0                 0          1       1              0   \n",
       "\n",
       "        SkinCancer  PhysicalHealth  MentalHealth  SleepTime  \n",
       "271884           0             0.0          25.0        7.0  \n",
       "270361           1             0.0          20.0        6.0  \n",
       "219060           0             0.0           0.0        6.0  \n",
       "24010            0            30.0           0.0        8.0  \n",
       "181930           1            30.0          30.0        4.0  "
      ]
     },
     "execution_count": 33,
     "metadata": {},
     "output_type": "execute_result"
    }
   ],
   "source": [
    "# Test le pipeline pour le jeu de test\n",
    "X_test=test_set.drop(['HeartDisease'], axis=1)\n",
    "y_test=test_set['HeartDisease']\n",
    "X_test.head()"
   ]
  },
  {
   "cell_type": "code",
   "execution_count": 56,
   "id": "02a832cd",
   "metadata": {},
   "outputs": [
    {
     "name": "stdout",
     "output_type": "stream",
     "text": [
      "Results on the test set:\n",
      "              precision    recall  f1-score   support\n",
      "\n",
      "           0       0.93      0.93      0.93     87649\n",
      "           1       0.23      0.22      0.22      8290\n",
      "\n",
      "    accuracy                           0.87     95939\n",
      "   macro avg       0.58      0.57      0.58     95939\n",
      "weighted avg       0.87      0.87      0.87     95939\n",
      "\n"
     ]
    }
   ],
   "source": [
    "#test\n",
    "y_pred = clf.predict(X_test)\n",
    "accuracy_score(y_test, y_pred)\n",
    "print('Results on the test set:')\n",
    "print(classification_report(y_test, y_pred))\n",
    "\n",
    "# le taux de détection est de l'ordre de :"
   ]
  },
  {
   "cell_type": "code",
   "execution_count": 57,
   "id": "9e59b2e4",
   "metadata": {},
   "outputs": [
    {
     "name": "stdout",
     "output_type": "stream",
     "text": [
      "Results on the test set:\n",
      "              precision    recall  f1-score   support\n",
      "\n",
      "           0       0.92      0.99      0.95     87649\n",
      "           1       0.51      0.10      0.16      8290\n",
      "\n",
      "    accuracy                           0.91     95939\n",
      "   macro avg       0.71      0.54      0.56     95939\n",
      "weighted avg       0.88      0.91      0.89     95939\n",
      "\n"
     ]
    }
   ],
   "source": [
    "#exemple d'utilisation de la régression logistic\n",
    "from sklearn.linear_model import LogisticRegression\n",
    "model=LogisticRegression()\n",
    "model.fit(X_train,y_train)\n",
    "y_pred = model.predict(X_test)\n",
    "print('Results on the test set:')\n",
    "print(classification_report(y_test, y_pred))"
   ]
  },
  {
   "cell_type": "code",
   "execution_count": null,
   "id": "b5e9e4d9",
   "metadata": {},
   "outputs": [],
   "source": []
  },
  {
   "cell_type": "code",
   "execution_count": 35,
   "id": "8731b9b7",
   "metadata": {},
   "outputs": [
    {
     "data": {
      "text/plain": [
       "array([0.87556222, 0.85971493, 0.85446362])"
      ]
     },
     "execution_count": 35,
     "metadata": {},
     "output_type": "execute_result"
    }
   ],
   "source": [
    "#exemple d'utilisation de l'ARBRE DE DÉCISION'\n",
    "from sklearn.tree import DecisionTreeClassifier\n",
    "from sklearn.model_selection import cross_val_score\n",
    "clf= DecisionTreeClassifier(criterion=\"entropy\")\n",
    "clf.fit(X_train, y_train)\n",
    "cross_val_score(clf, X_train, y_train, cv=3, scoring=\"accuracy\")"
   ]
  },
  {
   "cell_type": "markdown",
   "id": "7de68c7d",
   "metadata": {},
   "source": [
    "Mesurer les métriques de précision, rappel et F1-Mesure\n",
    "nous allons d'abord récupérer les résultats des prédictions \n",
    "de la validation croisée au lieu des scores"
   ]
  },
  {
   "cell_type": "code",
   "execution_count": 36,
   "id": "a19b017b",
   "metadata": {},
   "outputs": [
    {
     "name": "stdout",
     "output_type": "stream",
     "text": [
      "[[3367  292]\n",
      " [ 259   82]]\n"
     ]
    }
   ],
   "source": [
    "#k=3\n",
    "from sklearn.model_selection import cross_val_predict\n",
    "y_pred = cross_val_predict(clf, X_train, y_train, cv=3)\n",
    "from sklearn import metrics\n",
    "print(metrics.confusion_matrix(y_train,y_pred))"
   ]
  },
  {
   "cell_type": "code",
   "execution_count": 37,
   "id": "1a3f50ac",
   "metadata": {},
   "outputs": [
    {
     "name": "stdout",
     "output_type": "stream",
     "text": [
      "              precision    recall  f1-score   support\n",
      "\n",
      "           0       0.93      0.92      0.92      3659\n",
      "           1       0.22      0.24      0.23       341\n",
      "\n",
      "    accuracy                           0.86      4000\n",
      "   macro avg       0.57      0.58      0.58      4000\n",
      "weighted avg       0.87      0.86      0.87      4000\n",
      "\n"
     ]
    }
   ],
   "source": [
    "# le taux de détection est de l'ordre de :\n",
    "print(metrics.classification_report(y_train, y_pred))"
   ]
  },
  {
   "cell_type": "markdown",
   "id": "955ed1c2",
   "metadata": {},
   "source": [
    " Optimiser les hyper-paramètres en utilisant la recherche par quadrillage –GridSearchCV\n"
   ]
  },
  {
   "cell_type": "code",
   "execution_count": 38,
   "id": "5d7dd7bb",
   "metadata": {},
   "outputs": [
    {
     "name": "stdout",
     "output_type": "stream",
     "text": [
      "Fitting 3 folds for each of 54 candidates, totalling 162 fits\n"
     ]
    },
    {
     "data": {
      "text/plain": [
       "GridSearchCV(cv=3, estimator=DecisionTreeClassifier(random_state=42), n_jobs=-1,\n",
       "             param_grid={'max_depth': [2, 3, 4, 5, 6, 7, 8, 9, 10, 11, 12, 13,\n",
       "                                       14, 15, 16, 17, 18, 19],\n",
       "                         'min_samples_split': [10, 15, 20]},\n",
       "             verbose=1)"
      ]
     },
     "execution_count": 38,
     "metadata": {},
     "output_type": "execute_result"
    }
   ],
   "source": [
    "from sklearn.model_selection import GridSearchCV\n",
    "params = {'max_depth': list(range(2, 20)), 'min_samples_split': [10, 15, 20]}\n",
    "\n",
    "grid_search_cv = GridSearchCV(DecisionTreeClassifier(random_state=42), \n",
    "                              params, n_jobs=-1, verbose=1, cv=3)\n",
    "grid_search_cv.fit(X_train, y_train)\n"
   ]
  },
  {
   "cell_type": "markdown",
   "id": "b41b4f86",
   "metadata": {},
   "source": [
    "#le meilleur estimateur (modele) trouvé est:"
   ]
  },
  {
   "cell_type": "code",
   "execution_count": 39,
   "id": "5052af2a",
   "metadata": {},
   "outputs": [
    {
     "data": {
      "text/plain": [
       "DecisionTreeClassifier(max_depth=2, min_samples_split=10, random_state=42)"
      ]
     },
     "execution_count": 39,
     "metadata": {},
     "output_type": "execute_result"
    }
   ],
   "source": [
    "grid_search_cv.best_estimator_"
   ]
  },
  {
   "cell_type": "code",
   "execution_count": 40,
   "id": "80695713",
   "metadata": {},
   "outputs": [
    {
     "name": "stdout",
     "output_type": "stream",
     "text": [
      "Fitting 3 folds for each of 4 candidates, totalling 12 fits\n"
     ]
    },
    {
     "data": {
      "text/plain": [
       "GridSearchCV(cv=3, estimator=DecisionTreeClassifier(random_state=42), n_jobs=-1,\n",
       "             param_grid={'max_depth': [0, 1], 'min_samples_split': [1, 10]},\n",
       "             verbose=1)"
      ]
     },
     "execution_count": 40,
     "metadata": {},
     "output_type": "execute_result"
    }
   ],
   "source": [
    "# testons le meilleur moèle de L'arbre de décission:\n",
    "from sklearn.model_selection import GridSearchCV\n",
    "params = {'max_depth':list(range(0, 2)), 'min_samples_split':[1,10]}\n",
    "\n",
    "grid_search_cv = GridSearchCV(DecisionTreeClassifier(random_state=42), \n",
    "                            params, n_jobs=-1, verbose=1, cv=3)\n",
    "grid_search_cv.fit(X_train, y_train)\n"
   ]
  },
  {
   "cell_type": "code",
   "execution_count": 41,
   "id": "ffb71087",
   "metadata": {},
   "outputs": [
    {
     "name": "stdout",
     "output_type": "stream",
     "text": [
      "[[3378  281]\n",
      " [ 261   80]]\n"
     ]
    }
   ],
   "source": [
    "from sklearn.model_selection import cross_val_predict\n",
    "y_pred = cross_val_predict(clf, X_train, y_train, cv=3)\n",
    "from sklearn import metrics\n",
    "print(metrics.confusion_matrix(y_train,y_pred))"
   ]
  },
  {
   "cell_type": "code",
   "execution_count": 42,
   "id": "44358811",
   "metadata": {},
   "outputs": [
    {
     "name": "stdout",
     "output_type": "stream",
     "text": [
      "              precision    recall  f1-score   support\n",
      "\n",
      "           0       0.93      0.92      0.93      3659\n",
      "           1       0.22      0.23      0.23       341\n",
      "\n",
      "    accuracy                           0.86      4000\n",
      "   macro avg       0.57      0.58      0.58      4000\n",
      "weighted avg       0.87      0.86      0.87      4000\n",
      "\n"
     ]
    }
   ],
   "source": [
    "# le taux de détection est de l'ordre de :\n",
    "print(metrics.classification_report(y_train, y_pred))"
   ]
  },
  {
   "cell_type": "code",
   "execution_count": 43,
   "id": "ecde1244",
   "metadata": {},
   "outputs": [
    {
     "name": "stdout",
     "output_type": "stream",
     "text": [
      "Results on the test set:\n",
      "              precision    recall  f1-score   support\n",
      "\n",
      "           0       0.93      0.93      0.93     87649\n",
      "           1       0.23      0.21      0.22      8290\n",
      "\n",
      "    accuracy                           0.87     95939\n",
      "   macro avg       0.58      0.57      0.58     95939\n",
      "weighted avg       0.87      0.87      0.87     95939\n",
      "\n"
     ]
    }
   ],
   "source": [
    "#test\n",
    "y_pred = clf.predict(X_test)\n",
    "accuracy_score(y_test, y_pred)\n",
    "print('Results on the test set:')\n",
    "print(classification_report(y_test, y_pred))"
   ]
  },
  {
   "cell_type": "code",
   "execution_count": 48,
   "id": "5de6db44",
   "metadata": {},
   "outputs": [
    {
     "data": {
      "text/plain": [
       "GaussianNB()"
      ]
     },
     "execution_count": 48,
     "metadata": {},
     "output_type": "execute_result"
    }
   ],
   "source": [
    "# training the model on training set\n",
    "from sklearn.naive_bayes import GaussianNB\n",
    "gnb = GaussianNB()\n",
    "gnb.fit(X_train, y_train)\n",
    " "
   ]
  },
  {
   "cell_type": "code",
   "execution_count": 44,
   "id": "de460688",
   "metadata": {},
   "outputs": [],
   "source": [
    "# Nous avaons obtenu les memes résultats avant l'optimisation des paramètres."
   ]
  },
  {
   "cell_type": "code",
   "execution_count": 49,
   "id": "cf87b1d5",
   "metadata": {},
   "outputs": [
    {
     "name": "stdout",
     "output_type": "stream",
     "text": [
      "Gaussian Naive Bayes model accuracy(in %): 0.8697818405445127\n"
     ]
    }
   ],
   "source": [
    "# comparing actual response values (y_test) with predicted response values (y_pred)\n",
    "from sklearn import metrics\n",
    "print(\"Gaussian Naive Bayes model accuracy(in %):\", metrics.accuracy_score(y_test, y_pred))"
   ]
  },
  {
   "cell_type": "code",
   "execution_count": 50,
   "id": "080eadc7",
   "metadata": {},
   "outputs": [],
   "source": [
    "# making predictions on the testing set\n",
    "y_pred = gnb.predict(X_test)"
   ]
  },
  {
   "cell_type": "code",
   "execution_count": 243,
   "id": "22ae171d",
   "metadata": {},
   "outputs": [],
   "source": [
    "# Predict on test set\n",
    "pred_y = gbr.predict(X_test)\n",
    "  "
   ]
  },
  {
   "cell_type": "code",
   "execution_count": 51,
   "id": "2e6d3f5b",
   "metadata": {},
   "outputs": [
    {
     "data": {
      "text/plain": [
       "GradientBoostingRegressor(max_depth=1, n_estimators=200, random_state=42)"
      ]
     },
     "execution_count": 51,
     "metadata": {},
     "output_type": "execute_result"
    }
   ],
   "source": [
    "# gradient boosting\n",
    "# Instantiate Gradient Boosting Regressor\n",
    "# Import models and utility functions\n",
    "from sklearn.ensemble import GradientBoostingRegressor\n",
    "from sklearn.model_selection import train_test_split\n",
    "from sklearn.metrics import mean_squared_error as MSE\n",
    "\n",
    "gbr = GradientBoostingRegressor(n_estimators = 200, max_depth = 1, random_state = 42)\n",
    "# Fit to training set\n",
    "gbr.fit(X_train, y_train)\n"
   ]
  },
  {
   "cell_type": "code",
   "execution_count": 52,
   "id": "85a120ef",
   "metadata": {},
   "outputs": [],
   "source": [
    "# test set RMSE\n",
    "test_rmse = MSE(y_test, y_pred)** (1 / 2)"
   ]
  },
  {
   "cell_type": "code",
   "execution_count": 53,
   "id": "9f406db9",
   "metadata": {},
   "outputs": [
    {
     "name": "stdout",
     "output_type": "stream",
     "text": [
      "RMSE test set: 0.40\n"
     ]
    }
   ],
   "source": [
    "# Print rmse\n",
    "print('RMSE test set: {:.2f}'.format(test_rmse))"
   ]
  },
  {
   "cell_type": "code",
   "execution_count": 246,
   "id": "6081d42b",
   "metadata": {},
   "outputs": [
    {
     "name": "stdout",
     "output_type": "stream",
     "text": [
      "+-------------+------------------------+----------+\n",
      "| Séparation  | Model Names            | Accuracy |\n",
      "+-------------+------------------------+----------+\n",
      "| 80/20       | Logistic Regression    | 0.91     |\n",
      "| 80/20       | DecisionTreeClassifier | 0.86     |\n",
      "| 80/20       | Gaussian Naive Bayes   | 0.84     |\n",
      "| 80/20       | Gradient Boosting      | 0.40     |\n",
      "+-------------+------------------------+----------+\n"
     ]
    }
   ],
   "source": [
    "# Bilan\n",
    "from prettytable import PrettyTable\n",
    "table = PrettyTable(['Séparation ','Model Names', 'Accuracy'])\n",
    "table.align = 'l'\n",
    "table.add_row(['80/20', 'Logistic Regression', '0.91'])\n",
    "table.add_row(['80/20', 'DecisionTreeClassifier', '0.86'])\n",
    "table.add_row(['80/20', 'Gaussian Naive Bayes', '0.84'])\n",
    "table.add_row(['80/20', 'Gradient Boosting', '0.40'])\n",
    "print(table)"
   ]
  }
 ],
 "metadata": {
  "kernelspec": {
   "display_name": "Python 3 (ipykernel)",
   "language": "python",
   "name": "python3"
  },
  "language_info": {
   "codemirror_mode": {
    "name": "ipython",
    "version": 3
   },
   "file_extension": ".py",
   "mimetype": "text/x-python",
   "name": "python",
   "nbconvert_exporter": "python",
   "pygments_lexer": "ipython3",
   "version": "3.8.8"
  }
 },
 "nbformat": 4,
 "nbformat_minor": 5
}
